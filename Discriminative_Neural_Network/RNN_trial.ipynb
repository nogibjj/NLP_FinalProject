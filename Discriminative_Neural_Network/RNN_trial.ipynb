{
 "cells": [
  {
   "cell_type": "code",
   "execution_count": 30,
   "metadata": {},
   "outputs": [],
   "source": [
    "## this code is for the purpose of testing the functionality of the RNN"
   ]
  },
  {
   "cell_type": "code",
   "execution_count": 31,
   "metadata": {},
   "outputs": [],
   "source": [
    "import pandas as pd\n",
    "from tensorflow.keras.preprocessing.text import Tokenizer\n",
    "from tensorflow.keras.preprocessing.sequence import pad_sequences\n",
    "from sklearn.model_selection import train_test_split"
   ]
  },
  {
   "cell_type": "code",
   "execution_count": 32,
   "metadata": {},
   "outputs": [],
   "source": [
    "# Load dataset\n",
    "data_file = \"/workspaces/NLP_finalProject/data/completeSpamAssassin.csv\"\n",
    "df = pd.read_csv(data_file)\n",
    "# Convert to string and handle NaNs\n",
    "df[\"Body\"] = df[\"Body\"].fillna(\"\").astype(str)\n",
    "# Tokenization\n",
    "tokenizer = Tokenizer(num_words=5000, oov_token=\"<OOV>\")\n",
    "tokenizer.fit_on_texts(df[\"Body\"])"
   ]
  },
  {
   "cell_type": "code",
   "execution_count": 33,
   "metadata": {},
   "outputs": [],
   "source": [
    "# split into train and test sets\n",
    "X_train, X_test, y_train, y_test = train_test_split(\n",
    "    df[\"Body\"], df[\"Label\"], test_size=0.2, random_state=42\n",
    ")"
   ]
  },
  {
   "cell_type": "code",
   "execution_count": 34,
   "metadata": {},
   "outputs": [],
   "source": [
    "train_sequences = tokenizer.texts_to_sequences(X_train)\n",
    "# train Padding\n",
    "train_padded_sequences = pad_sequences(train_sequences, maxlen=200)\n",
    "\n",
    "# # Labels\n",
    "train_labels = df[\"Label\"].values"
   ]
  },
  {
   "cell_type": "code",
   "execution_count": 35,
   "metadata": {},
   "outputs": [
    {
     "name": "stdout",
     "output_type": "stream",
     "text": [
      "Model: \"sequential_1\"\n",
      "_________________________________________________________________\n",
      " Layer (type)                Output Shape              Param #   \n",
      "=================================================================\n",
      " embedding_1 (Embedding)     (None, 200, 64)           320000    \n",
      "                                                                 \n",
      " simple_rnn_1 (SimpleRNN)    (None, 64)                8256      \n",
      "                                                                 \n",
      " dense_1 (Dense)             (None, 1)                 65        \n",
      "                                                                 \n",
      "=================================================================\n",
      "Total params: 328321 (1.25 MB)\n",
      "Trainable params: 328321 (1.25 MB)\n",
      "Non-trainable params: 0 (0.00 Byte)\n",
      "_________________________________________________________________\n"
     ]
    }
   ],
   "source": [
    "## create RNN model\n",
    "from tensorflow.keras.models import Sequential\n",
    "from tensorflow.keras.layers import Embedding, SimpleRNN, Dense\n",
    "\n",
    "model = Sequential()\n",
    "model.add(Embedding(5000, 64, input_length=200))\n",
    "model.add(SimpleRNN(64))\n",
    "model.add(Dense(1, activation=\"sigmoid\"))\n",
    "\n",
    "model.compile(loss=\"binary_crossentropy\", optimizer=\"adam\", metrics=[\"accuracy\"])\n",
    "model.summary()"
   ]
  },
  {
   "cell_type": "code",
   "execution_count": 36,
   "metadata": {},
   "outputs": [
    {
     "name": "stdout",
     "output_type": "stream",
     "text": [
      "Epoch 1/10\n",
      "121/121 [==============================] - 5s 31ms/step - loss: 0.6990 - accuracy: 0.5052 - val_loss: 0.6430 - val_accuracy: 0.8616\n",
      "Epoch 2/10\n",
      "121/121 [==============================] - 4s 30ms/step - loss: 0.6712 - accuracy: 0.6078 - val_loss: 0.6475 - val_accuracy: 0.6601\n",
      "Epoch 3/10\n",
      "121/121 [==============================] - 4s 33ms/step - loss: 0.6138 - accuracy: 0.6825 - val_loss: 0.8228 - val_accuracy: 0.4308\n",
      "Epoch 4/10\n",
      "121/121 [==============================] - 4s 29ms/step - loss: 0.5432 - accuracy: 0.7280 - val_loss: 0.6825 - val_accuracy: 0.6436\n",
      "Epoch 5/10\n",
      "121/121 [==============================] - 4s 29ms/step - loss: 0.4646 - accuracy: 0.7717 - val_loss: 0.7628 - val_accuracy: 0.5527\n",
      "Epoch 6/10\n",
      "121/121 [==============================] - 4s 31ms/step - loss: 0.4213 - accuracy: 0.7973 - val_loss: 0.9198 - val_accuracy: 0.5196\n",
      "Epoch 7/10\n",
      "121/121 [==============================] - 4s 30ms/step - loss: 0.3805 - accuracy: 0.8128 - val_loss: 0.8491 - val_accuracy: 0.5981\n",
      "Epoch 8/10\n",
      "121/121 [==============================] - 4s 32ms/step - loss: 0.3469 - accuracy: 0.8304 - val_loss: 0.8818 - val_accuracy: 0.5878\n",
      "Epoch 9/10\n",
      "121/121 [==============================] - 4s 33ms/step - loss: 0.3864 - accuracy: 0.8097 - val_loss: 0.9023 - val_accuracy: 0.5950\n",
      "Epoch 10/10\n",
      "121/121 [==============================] - 4s 33ms/step - loss: 0.3147 - accuracy: 0.8493 - val_loss: 0.8119 - val_accuracy: 0.5940\n"
     ]
    },
    {
     "data": {
      "text/plain": [
       "<keras.src.callbacks.History at 0x7f02e302ef20>"
      ]
     },
     "execution_count": 36,
     "metadata": {},
     "output_type": "execute_result"
    }
   ],
   "source": [
    "# train the model\n",
    "model.fit(train_padded_sequences, train_labels, epochs=10, validation_split=0.2)"
   ]
  },
  {
   "cell_type": "code",
   "execution_count": 38,
   "metadata": {},
   "outputs": [
    {
     "name": "stdout",
     "output_type": "stream",
     "text": [
      "38/38 [==============================] - 0s 6ms/step - loss: 0.9465 - accuracy: 0.4942\n",
      "Test Accuracy: 0.49421486258506775\n"
     ]
    }
   ],
   "source": [
    "# test the model\n",
    "test_sequences = tokenizer.texts_to_sequences(X_test)\n",
    "test_padded_sequences = pad_sequences(test_sequences, maxlen=200)\n",
    "test_labels = y_test.values\n",
    "loss, accuracy = model.evaluate(test_padded_sequences, test_labels)\n",
    "print(f\"Test Accuracy: {accuracy}\")"
   ]
  }
 ],
 "metadata": {
  "kernelspec": {
   "display_name": "Python 3",
   "language": "python",
   "name": "python3"
  },
  "language_info": {
   "codemirror_mode": {
    "name": "ipython",
    "version": 3
   },
   "file_extension": ".py",
   "mimetype": "text/x-python",
   "name": "python",
   "nbconvert_exporter": "python",
   "pygments_lexer": "ipython3",
   "version": "3.10.13"
  }
 },
 "nbformat": 4,
 "nbformat_minor": 2
}
