{
 "cells": [
  {
   "cell_type": "code",
   "execution_count": 22,
   "metadata": {},
   "outputs": [
    {
     "data": {
      "text/html": [
       "<div>\n",
       "<style scoped>\n",
       "    .dataframe tbody tr th:only-of-type {\n",
       "        vertical-align: middle;\n",
       "    }\n",
       "\n",
       "    .dataframe tbody tr th {\n",
       "        vertical-align: top;\n",
       "    }\n",
       "\n",
       "    .dataframe thead th {\n",
       "        text-align: right;\n",
       "    }\n",
       "</style>\n",
       "<table border=\"1\" class=\"dataframe\">\n",
       "  <thead>\n",
       "    <tr style=\"text-align: right;\">\n",
       "      <th></th>\n",
       "      <th>Unnamed: 0</th>\n",
       "      <th>Body</th>\n",
       "      <th>Label</th>\n",
       "    </tr>\n",
       "  </thead>\n",
       "  <tbody>\n",
       "    <tr>\n",
       "      <th>0</th>\n",
       "      <td>0</td>\n",
       "      <td>\\nSave up to 70% on Life Insurance.\\nWhy Spend...</td>\n",
       "      <td>1</td>\n",
       "    </tr>\n",
       "    <tr>\n",
       "      <th>1</th>\n",
       "      <td>1</td>\n",
       "      <td>1) Fight The Risk of Cancer!\\nhttp://www.adcli...</td>\n",
       "      <td>1</td>\n",
       "    </tr>\n",
       "    <tr>\n",
       "      <th>2</th>\n",
       "      <td>2</td>\n",
       "      <td>1) Fight The Risk of Cancer!\\nhttp://www.adcli...</td>\n",
       "      <td>1</td>\n",
       "    </tr>\n",
       "    <tr>\n",
       "      <th>3</th>\n",
       "      <td>3</td>\n",
       "      <td>##############################################...</td>\n",
       "      <td>1</td>\n",
       "    </tr>\n",
       "    <tr>\n",
       "      <th>4</th>\n",
       "      <td>4</td>\n",
       "      <td>I thought you might like these:\\n1) Slim Down ...</td>\n",
       "      <td>1</td>\n",
       "    </tr>\n",
       "    <tr>\n",
       "      <th>...</th>\n",
       "      <td>...</td>\n",
       "      <td>...</td>\n",
       "      <td>...</td>\n",
       "    </tr>\n",
       "    <tr>\n",
       "      <th>1891</th>\n",
       "      <td>1891</td>\n",
       "      <td>\\nWant To Be Your Own Boss? Â  Train Now With ...</td>\n",
       "      <td>1</td>\n",
       "    </tr>\n",
       "    <tr>\n",
       "      <th>1892</th>\n",
       "      <td>1892</td>\n",
       "      <td>empty</td>\n",
       "      <td>1</td>\n",
       "    </tr>\n",
       "    <tr>\n",
       "      <th>1893</th>\n",
       "      <td>1893</td>\n",
       "      <td>Dear Subscriber,If I could show you a way to g...</td>\n",
       "      <td>1</td>\n",
       "    </tr>\n",
       "    <tr>\n",
       "      <th>1894</th>\n",
       "      <td>1894</td>\n",
       "      <td>****Mid-Summer Customer Appreciation SALE!****...</td>\n",
       "      <td>1</td>\n",
       "    </tr>\n",
       "    <tr>\n",
       "      <th>1895</th>\n",
       "      <td>1895</td>\n",
       "      <td>ATTN:SIR/MADAN                            STRI...</td>\n",
       "      <td>1</td>\n",
       "    </tr>\n",
       "  </tbody>\n",
       "</table>\n",
       "<p>1896 rows × 3 columns</p>\n",
       "</div>"
      ],
      "text/plain": [
       "      Unnamed: 0                                               Body  Label\n",
       "0              0  \\nSave up to 70% on Life Insurance.\\nWhy Spend...      1\n",
       "1              1  1) Fight The Risk of Cancer!\\nhttp://www.adcli...      1\n",
       "2              2  1) Fight The Risk of Cancer!\\nhttp://www.adcli...      1\n",
       "3              3  ##############################################...      1\n",
       "4              4  I thought you might like these:\\n1) Slim Down ...      1\n",
       "...          ...                                                ...    ...\n",
       "1891        1891  \\nWant To Be Your Own Boss? Â  Train Now With ...      1\n",
       "1892        1892                                              empty      1\n",
       "1893        1893  Dear Subscriber,If I could show you a way to g...      1\n",
       "1894        1894  ****Mid-Summer Customer Appreciation SALE!****...      1\n",
       "1895        1895  ATTN:SIR/MADAN                            STRI...      1\n",
       "\n",
       "[1896 rows x 3 columns]"
      ]
     },
     "execution_count": 22,
     "metadata": {},
     "output_type": "execute_result"
    }
   ],
   "source": [
    "# import\n",
    "import pandas as pd\n",
    "import numpy as np\n",
    "\n",
    "# read data\n",
    "df_CSA = pd.read_csv(\"completeSpamAssassin.csv\")\n",
    "df_CSA[df_CSA.Label == 1]  # 1 spam , 0 not spam"
   ]
  },
  {
   "cell_type": "code",
   "execution_count": 13,
   "metadata": {},
   "outputs": [
    {
     "data": {
      "text/plain": [
       "(6046, 3)"
      ]
     },
     "execution_count": 13,
     "metadata": {},
     "output_type": "execute_result"
    }
   ],
   "source": [
    "df_CSA.shape"
   ]
  },
  {
   "cell_type": "code",
   "execution_count": 15,
   "metadata": {},
   "outputs": [
    {
     "data": {
      "text/plain": [
       "(10000, 4)"
      ]
     },
     "execution_count": 15,
     "metadata": {},
     "output_type": "execute_result"
    }
   ],
   "source": [
    "df_enron = pd.read_csv(\"enronSpamSubset.csv\")\n",
    "df_enron.shape"
   ]
  },
  {
   "cell_type": "code",
   "execution_count": 16,
   "metadata": {},
   "outputs": [
    {
     "data": {
      "text/html": [
       "<div>\n",
       "<style scoped>\n",
       "    .dataframe tbody tr th:only-of-type {\n",
       "        vertical-align: middle;\n",
       "    }\n",
       "\n",
       "    .dataframe tbody tr th {\n",
       "        vertical-align: top;\n",
       "    }\n",
       "\n",
       "    .dataframe thead th {\n",
       "        text-align: right;\n",
       "    }\n",
       "</style>\n",
       "<table border=\"1\" class=\"dataframe\">\n",
       "  <thead>\n",
       "    <tr style=\"text-align: right;\">\n",
       "      <th></th>\n",
       "      <th>Unnamed: 0.1</th>\n",
       "      <th>Unnamed: 0</th>\n",
       "      <th>Body</th>\n",
       "      <th>Label</th>\n",
       "    </tr>\n",
       "  </thead>\n",
       "  <tbody>\n",
       "    <tr>\n",
       "      <th>0</th>\n",
       "      <td>2469</td>\n",
       "      <td>2469</td>\n",
       "      <td>Subject: stock promo mover : cwtd\\n * * * urge...</td>\n",
       "      <td>1</td>\n",
       "    </tr>\n",
       "    <tr>\n",
       "      <th>1</th>\n",
       "      <td>5063</td>\n",
       "      <td>5063</td>\n",
       "      <td>Subject: are you listed in major search engine...</td>\n",
       "      <td>1</td>\n",
       "    </tr>\n",
       "    <tr>\n",
       "      <th>2</th>\n",
       "      <td>12564</td>\n",
       "      <td>12564</td>\n",
       "      <td>Subject: important information thu , 30 jun 20...</td>\n",
       "      <td>1</td>\n",
       "    </tr>\n",
       "    <tr>\n",
       "      <th>3</th>\n",
       "      <td>2796</td>\n",
       "      <td>2796</td>\n",
       "      <td>Subject: = ? utf - 8 ? q ? bask your life with...</td>\n",
       "      <td>1</td>\n",
       "    </tr>\n",
       "    <tr>\n",
       "      <th>4</th>\n",
       "      <td>1468</td>\n",
       "      <td>1468</td>\n",
       "      <td>Subject: \" bidstogo \" is places to go , things...</td>\n",
       "      <td>1</td>\n",
       "    </tr>\n",
       "  </tbody>\n",
       "</table>\n",
       "</div>"
      ],
      "text/plain": [
       "   Unnamed: 0.1  Unnamed: 0  \\\n",
       "0          2469        2469   \n",
       "1          5063        5063   \n",
       "2         12564       12564   \n",
       "3          2796        2796   \n",
       "4          1468        1468   \n",
       "\n",
       "                                                Body  Label  \n",
       "0  Subject: stock promo mover : cwtd\\n * * * urge...      1  \n",
       "1  Subject: are you listed in major search engine...      1  \n",
       "2  Subject: important information thu , 30 jun 20...      1  \n",
       "3  Subject: = ? utf - 8 ? q ? bask your life with...      1  \n",
       "4  Subject: \" bidstogo \" is places to go , things...      1  "
      ]
     },
     "execution_count": 16,
     "metadata": {},
     "output_type": "execute_result"
    }
   ],
   "source": [
    "df_enron.head()"
   ]
  },
  {
   "cell_type": "code",
   "execution_count": 26,
   "metadata": {},
   "outputs": [
    {
     "data": {
      "text/plain": [
       "'Subject: re : legislative report ( 07 / 20 / 2001 )\\n from the independent energy producer \\' s lobbying firm\\n sue mara\\n enron corp .\\n tel : ( 415 ) 782 - 7802\\n fax : ( 415 ) 782 - 7854\\n - - - - - forwarded by susan j mara / na / enron on 07 / 22 / 2001 11 : 16 pm - - - - -\\n \" martinez , michael \" 07 / 20 / 2001 08 : 14 pm to : \" \\' alex sugaoka ( e - mail ) \\' \" , \" \\' bill woods ( e - mail ) \\' \" , \" \\' bob ellery ( e - mail ) \\' \" , \" \\' bob escalante ( e - mail ) \\' \" , \" \\' bob gates ( e - mail ) \\' \" , \" \\' carolyn a baker ( e - mail ) \\' \" , \" \\' charles linthicum ( e - mail ) \\' \" , \" \\' cody carter ( e - mail ) \\' \" , \" \\' curt hatton ( e - mail ) \\' \" , \" \\' curtis kebler ( e - mail ) \\' \" , \" \\' david parquet \\' \" , \" \\' dean gosselin ( e - mail ) \\' \" , \" \\' douglas kerner ( e - mail ) \\' \" , \" \\' duane nelsen ( e - mail ) \\' \" , \" \\' ed tomeo ( e - mail ) \\' \" , \" \\' eileen koch ( e - mail ) \\' \" , \" \\' eric eisenman ( e - mail ) \\' \" , \" \\' frank derosa ( e - mail ) \\' \" , \" \\' greg blue ( e - mail ) \\' \" , \" \\' hap boyd ( e - mail ) \\' \" , \" \\' hawks jack ( e - mail ) \\' \" , \" \\' jack pigott ( e - mail ) \\' \" , \" \\' jim willey ( e - mail ) \\' \" , \" \\' joe greco ( e - mail ) \\' \" , \" \\' joe ronan ( e - mail ) \\' \" , \" \\' john stout ( e - mail ) \\' \" , \" \\' jonathan weisgall ( e - mail ) \\' \" , \" \\' kate castillo ( e - mail ) \\' \" , \" \\' kelly lloyd ( e - mail ) \\' \" , \" \\' ken hoffman ( e - mail ) \\' \" , \" \\' kent fickett ( e - mail ) \\' \" , \" \\' kent palmerton \\' \" , \" \\' lynn lednicky ( e - mail ) \\' \" , \" \\' mark fillinger ( e - mail ) \\' \" , \" \\' marty mcfadden ( e - mail ) \\' \" , \" \\' paul desrochers ( e - mail ) \\' \" , \" \\' paula soos ( e - mail ) \\' \" , \" \\' randy hickok ( e - mail ) \\' \" , \" \\' roger pelote ( e - mail ) \\' \" , \" \\' ross ain ( e - mail ) \\' \" , \" \\' scott sadler ( e - mail ) \\' \" , \" \\' stephanie newell ( e - mail ) \\' \" , \" \\' steve iliff ( e - mail ) \\' \" , \" \\' steve ponder ( e - mail ) \\' \" , \" \\' susan j mara ( e - mail ) \\' \" , \" mcmorrow , thomas \" , \" \\' tony wetzel ( e - mail ) \\' \" , \" \\' william carlson ( e - mail ) \\' \" , \" \\' william hall ( e - mail ) \\' \" , \" \\' nam . nguyen @ powersrc . com \\' \" cc : \" \\' jan smutny - jones ( e - mail ) \\' \" , \" \\' steven kelly ( e - mail ) \\' \" , \" \\' katie kaplan ( e - mail ) \\' \" , \" \\' jean munoz ( e - mail ) \\' \" , \" \\' andy brown ( e - mail ) \\' \" , \" \\' carol hudson ( e - mail ) \\' \" , \" \\' sandra moseley ( e - mail ) \\' \" subject : re : legislative report ( 07 / 20 / 2001 )\\n dear all ,\\n attached is this week \\' s legislative report .\\n this entire week has been focused on devising a \" solution \" for the energy\\n crisis in addition to negotiating the passage of the state budget . although\\n the democratic leadership of the assembly and the governor successfully\\n lobbied four assembly republican lawmakers to switch sides and vote for the\\n budget on monday , the four republicans have refused to vote for five crucial\\n \" trailer \" bills which are necessary to implement the budget bill . there are\\n approximately 18 trailer bills that must be passed in addition to the budget\\n bill , but 5 have raised concerns for the republicans : sb 767 transportation\\n funding shift , sb 735 elimination of school facility fee housing programs ,\\n sb 1041 omnibus health trailer bill , ab 144 public social services and sb\\n 79 omnibus social services trailer bill . senate president pro tempore john\\n burton has stated that they will not vote on the budget bill in the senate\\n until the trailer bills are approved by the assembly . as of 7 : 00 p . m .\\n tonight , there is no budget deal .\\n meanwhile , on the energy front , the four proposals we have been discussing\\n all week - - sb 18 xx ( burton ) , sb 78 xx ( polanco ) , ab 82 xx ( keeley ) and ab\\n 83 xx ( wright ) - - are still \" in play \" legislatively this evening , even though\\n the governor told the dow jones newswire earlier today that the proposals\\n are not acceptable to him in their current form and encouraged the assembly\\n and senate to stay in session ( despite the scheduled summer break ) until a\\n bill acceptable to him could be agreed upon by the two houses and sent to\\n him for signature :\\n * sb 78 xx ( polanco ) electric utility rate stabilization act of 2001\\n passed out of the full senate on friday with 22 ayes and 17 noes . the\\n originally introduced version of sb 78 xx reflected the terms of the original\\n memorandum of understanding ( \" mou \" ) negotiated between governor davis and\\n southern california edison ( \" edison \" ) . it was recently amended to reflect\\n senator sher \\' s proposed \" plan b \" of the mou - - a version of the mou opposed\\n by edison on the grounds that the bill would not leave edison creditworthy .\\n it was heard in the senate energy , utilities and communications committee on\\n wednesday where it failed on a 4 ayes and 3 noes vote . reconsideration was\\n granted , however , and the bill passed out of the committee with 6 ayes and 2\\n noes on thursday morning . the authors took up amendments such as striking\\n the urgency clause , changing the rate component from 125 kws to 500 kws ,\\n placing conservation lands into land trusts and deleting section 399 . 26\\n ( which insulated edison international from certain claims ) during the\\n thursday hearing . sb 78 xx was then passed out of the senate appropriations\\n committee on thursday with 7 ayes and 3 noes .\\n * sb 18 xx ( burton ) department of water resources : electricity : bond\\n financing order passed out of the full senate on friday with 35 ayes and 2\\n noes , making it possible for dwr to issue bonds at a lower , cheaper rate\\n than allotted in ab lx ( keeley ) assuming the assembly concurs and the bill\\n is signed by governor davis . the bill also prohibits any additional charges\\n such as consultants and ad campaigns unless approved by the legislature and\\n requires certain \" sunshine \" provisions for greater scrutiny of contracts\\n entered to by the dwr . we understand that j . p . morgan and lehman brothers\\n - - the firms working with state treasurer angelides on the bond offering - -\\n have advised the governor \\' s office that sb 18 xx could delay the issuance of\\n the bonds indefinitely for a variety of reasons , so it is unclear whether\\n this bill will ever be signed . the bill was heard by the senate energy ,\\n utilities and communications committee on thursday where it passed with a 10\\n ayes and 0 noes vote . it next must be heard in the assembly .\\n * ab 82 xx ( keeley ) electric utility rate stabilization act of 2001\\n passed out of assembly energy costs and availability committee wednesday\\n evening on a 11 ayes and 9 noes vote . it was then heard later the same\\n evening by the assembly appropriations committee , where it was passed on a\\n 11 ayes and 6 noes vote . this is the \" compromise \" bill we have been\\n discussing all week authored by speaker hertzberg and assembly member fred\\n keeley . the bill continues to be a work in progress as we write this\\n report , with significant amendments being considered and awaiting a vote by\\n the full assembly , possibly later this evening . the current version of the\\n bill provides for limited direct access , state purchase of edison \\' s\\n transmission lines for $ 2 . 4 billion , a minimum 30 percent \" haircut \" for the\\n major generators and a \" trust \" to cover all claims not dealt with by the\\n haircut option .\\n * ab 83 xx ( wright ) alternative electric utility rate stabilization act\\n of 2001 was amended into ab 50 xx ( by assembly member bill campbell ) in the\\n assembly energy costs and availability committee wednesday evening , and then\\n passed out of committee with 11 ayes and 9 noes . it next must be heard by\\n the assembly appropriations committee , barring a rule waiver . no such\\n committee hearing is scheduled at this time . co - authored by assembly\\n members rod wright , keith richman , joe canciamilla and bill campbell , the\\n bill would allow the utilities to impose a basic monthly charge to address\\n the net undercollection , among other things .\\n other energy - related developments this week include :\\n * sb 84 xx ( burton ) state energy resources conservation and development\\n commission passed out of the full senate on friday with 30 ayes and 1 no and\\n sent to the assembly . this bill provides $ 10 million from the state general\\n fund to the california energy commission ( \" cec \" ) to fund a matching grant\\n program for a battery backup power source for led traffic signals . the grant\\n program will be administered by the cec , in consultation with local\\n governments , and will provide 70 percent of the cost of the battery backup\\n system . it next must be heard in the assembly .\\n * the ferc is expected to consider disbanding the current iso board\\n for an independent slate of directors on wednesday , the ferc announced on\\n friday . despite a dec 15 , 2000 , ferc order requiring the appointment of an\\n independent governing board for the iso , the state has refused to follow the\\n order citing that only the state legislature can change the composition of\\n the board . supporters of the ferc order argue that political appointees\\n should not oversee power markets due to the state \\' s domineering role in\\n purchasing power on behalf of the beleaguered utilities .\\n * sb 85 xx ( burton ) electrical restructuring : rates passed out of the\\n full senate on thursday with 37 ayes and 0 noes . this bill bars the\\n california public utilities commission ( cpuc ) from raising rates back to the\\n pre - 10 percent rate reduction levels solely because the mandatory rate\\n reduction period has expired on march 31 , 2002 . it next must be heard in\\n the assembly .\\n * the senate gave authorization to the senate select committee to\\n investigate market manipulation on thursday to subpoena top energy company\\n executives to provide testimony and further insight into their companies \\'\\n trading practices . the resolution - - sr 14 - - passed out with 28 ayes and 6\\n noes .\\n * the senate select committee to investigate market manipulation voted\\n unanimously on wednesday to ask the full senate to find texas - based reliant\\n energy in contempt for failing to comply with a subpoena for documents .\\n despite reliant \\' s having handed over 10 , 000 documents , the committee\\n rejected them after being unable to reach agreement over the confidentiality\\n of reliant \\' s documents . the committee stepped back from its contempt vote\\n last week against enron after the company and committee moved closer to\\n agreement over its release of thousands of documents stored in texas .\\n mirant resolved its pending contempt citation by agreeing to turn over\\n subpoenaed documents . the contempt citation against reliant will be\\n presented to the full senate , and then immediately sent to the rules\\n committee for another hearing before the full senate acts , dunn said .\\n * the state \\' s estimate of being overcharged for electricity dropped\\n from $ 8 . 9 billion to $ 6 . 1 billion after a ferc judge ordered a readjustment\\n in the state \\' s figure on wednesday . although the state continues to argue\\n that the $ 8 . 9 billion figure is correct , ferc judge curtis wagner called the\\n figure \" baseless \" and criticized the california delegation for \" not\\n negotiating in good faith \" during the recent settlement discussions . the\\n new amount , $ 6 . 1 billion , does not include power sales to municipal\\n utilities and alternative energy suppliers - - two entities that do not fall\\n under the purview of the iso , px or the state dwr - - as well as applies ferc\\n price controls imposed june 19 and retroactively takes into account sales\\n from october 2 onward .\\n * ab 28 xx ( migden ) electrical restructuring : oversight board : iso\\n passed out of the senate energy , utilities and communications committee on\\n tuesday to senate appropriations with 7 ayes and 0 noes . it was amended by\\n the author in committee to \" double - join \" it to sb 39 xx ( see below ) . this\\n amendment \" ties \" the ultimate fate of ab 28 xx to the fate of ab 39 xx , unless\\n the double - joiner language is removed from the bill before it goes to the\\n governor for signature , assuming the bill gets to the governor .\\n * sb 39 xx ( speier ) public utilities failed to pass out of the assembly\\n energy costs and availability committee on tuesday with 7 ayes and 10 noes .\\n reconsideration for the bill to be reheard in the committee was granted to\\n the author . given the failure of sb 39 xx in committee , ab 28 xx is\\n effectively \" dead \" as well for the moment ( see discussion of ab 28 xx above . )\\n best regards ,\\n tom mcmorrow and mike martinez\\n >\\n - iepa legislative report ( 4 ) . doc'"
      ]
     },
     "execution_count": 26,
     "metadata": {},
     "output_type": "execute_result"
    }
   ],
   "source": [
    "df_enron[df_enron.Label == 0][\"Body\"].iloc[0]"
   ]
  },
  {
   "cell_type": "markdown",
   "metadata": {},
   "source": [
    "hello group "
   ]
  }
 ],
 "metadata": {
  "kernelspec": {
   "display_name": "base",
   "language": "python",
   "name": "python3"
  },
  "language_info": {
   "codemirror_mode": {
    "name": "ipython",
    "version": 3
   },
   "file_extension": ".py",
   "mimetype": "text/x-python",
   "name": "python",
   "nbconvert_exporter": "python",
   "pygments_lexer": "ipython3",
   "version": "3.11.6"
  }
 },
 "nbformat": 4,
 "nbformat_minor": 2
}
